{
 "cells": [
  {
   "cell_type": "code",
   "execution_count": 1,
   "id": "2590f7db-f73b-4c89-9b30-55728a30b517",
   "metadata": {},
   "outputs": [
    {
     "name": "stdout",
     "output_type": "stream",
     "text": [
      "Collecting kagglehub\n",
      "  Using cached kagglehub-0.3.12-py3-none-any.whl.metadata (38 kB)\n",
      "Collecting kaggle\n",
      "  Downloading kaggle-1.7.4.5-py3-none-any.whl.metadata (16 kB)\n",
      "Requirement already satisfied: packaging in /home/joseph/anaconda3/lib/python3.13/site-packages (from kagglehub) (24.2)\n",
      "Requirement already satisfied: pyyaml in /home/joseph/anaconda3/lib/python3.13/site-packages (from kagglehub) (6.0.2)\n",
      "Requirement already satisfied: requests in /home/joseph/anaconda3/lib/python3.13/site-packages (from kagglehub) (2.32.3)\n",
      "Requirement already satisfied: tqdm in /home/joseph/anaconda3/lib/python3.13/site-packages (from kagglehub) (4.67.1)\n",
      "Requirement already satisfied: bleach in /home/joseph/anaconda3/lib/python3.13/site-packages (from kaggle) (6.2.0)\n",
      "Requirement already satisfied: certifi>=14.05.14 in /home/joseph/anaconda3/lib/python3.13/site-packages (from kaggle) (2025.4.26)\n",
      "Requirement already satisfied: charset-normalizer in /home/joseph/anaconda3/lib/python3.13/site-packages (from kaggle) (3.3.2)\n",
      "Requirement already satisfied: idna in /home/joseph/anaconda3/lib/python3.13/site-packages (from kaggle) (3.7)\n",
      "Requirement already satisfied: protobuf in /home/joseph/anaconda3/lib/python3.13/site-packages (from kaggle) (5.29.3)\n",
      "Requirement already satisfied: python-dateutil>=2.5.3 in /home/joseph/anaconda3/lib/python3.13/site-packages (from kaggle) (2.9.0.post0)\n",
      "Requirement already satisfied: python-slugify in /home/joseph/anaconda3/lib/python3.13/site-packages (from kaggle) (5.0.2)\n",
      "Requirement already satisfied: setuptools>=21.0.0 in /home/joseph/anaconda3/lib/python3.13/site-packages (from kaggle) (72.1.0)\n",
      "Requirement already satisfied: six>=1.10 in /home/joseph/anaconda3/lib/python3.13/site-packages (from kaggle) (1.17.0)\n",
      "Requirement already satisfied: text-unidecode in /home/joseph/anaconda3/lib/python3.13/site-packages (from kaggle) (1.3)\n",
      "Requirement already satisfied: urllib3>=1.15.1 in /home/joseph/anaconda3/lib/python3.13/site-packages (from kaggle) (2.3.0)\n",
      "Requirement already satisfied: webencodings in /home/joseph/anaconda3/lib/python3.13/site-packages (from kaggle) (0.5.1)\n",
      "Using cached kagglehub-0.3.12-py3-none-any.whl (67 kB)\n",
      "Downloading kaggle-1.7.4.5-py3-none-any.whl (181 kB)\n",
      "Installing collected packages: kagglehub, kaggle\n",
      "\u001b[2K   \u001b[38;2;114;156;31m━━━━━━━━━━━━━━━━━━━━━━━━━━━━━━━━━━━━━━━━\u001b[0m \u001b[32m2/2\u001b[0m [kaggle]━━━━\u001b[0m \u001b[32m1/2\u001b[0m [kaggle]\n",
      "Successfully installed kaggle-1.7.4.5 kagglehub-0.3.12\n"
     ]
    }
   ],
   "source": [
    "!pip install kagglehub kaggle"
   ]
  },
  {
   "cell_type": "code",
   "execution_count": null,
   "id": "0045d27b-b870-4ad7-b542-c44c6d0e0202",
   "metadata": {},
   "outputs": [],
   "source": [
    "import kagglehub\n",
    "\n",
    "kagglehub.dataset_download()"
   ]
  }
 ],
 "metadata": {
  "kernelspec": {
   "display_name": "Python 3 (ipykernel)",
   "language": "python",
   "name": "python3"
  },
  "language_info": {
   "codemirror_mode": {
    "name": "ipython",
    "version": 3
   },
   "file_extension": ".py",
   "mimetype": "text/x-python",
   "name": "python",
   "nbconvert_exporter": "python",
   "pygments_lexer": "ipython3",
   "version": "3.13.5"
  }
 },
 "nbformat": 4,
 "nbformat_minor": 5
}
